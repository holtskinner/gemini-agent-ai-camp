{
 "cells": [
  {
   "cell_type": "code",
   "execution_count": 1,
   "id": "fa073a45-46ec-4b1b-ad0a-3be3038bce5c",
   "metadata": {
    "height": 147
   },
   "outputs": [],
   "source": [
    "import os\n",
    "import json\n",
    "import operator\n",
    "import google.generativeai as genai\n",
    "from langchain_core.messages import AnyMessage, SystemMessage, HumanMessage, AIMessage, ChatMessage\n",
    "from langchain_google_genai import ChatGoogleGenerativeAI\n",
    "from langgraph.checkpoint.memory import MemorySaver\n",
    "from langgraph.graph import StateGraph, END\n",
    "from pydantic.v1 import BaseModel\n",
    "from tavily import TavilyClient\n",
    "from typing import TypedDict, Annotated, List"
   ]
  },
  {
   "cell_type": "code",
   "execution_count": 2,
   "id": "b31f689a-bd81-4b36-8717-1d08dc7ee74e",
   "metadata": {
    "height": 147
   },
   "outputs": [],
   "source": [
    "memory = MemorySaver()\n",
    "\n",
    "class AgentState(TypedDict):\n",
    "    task: str\n",
    "    plan: str\n",
    "    draft: str\n",
    "    critique: str\n",
    "    content: List[str]\n",
    "    revision_number: int\n",
    "    max_revisions: int\n",
    "\n",
    "class Queries(BaseModel):\n",
    "    \"\"\"Variants of query to search for\"\"\"\n",
    "    queries: List[str]"
   ]
  },
  {
   "cell_type": "code",
   "execution_count": 3,
   "id": "b01e24fb-7dcf-4aaa-bd04-3aad8412f9c1",
   "metadata": {
    "height": 147
   },
   "outputs": [],
   "source": [
    "model = ChatGoogleGenerativeAI(model=\"gemini-1.5-pro\", temperature=0)\n",
    "\n",
    "tavily = TavilyClient(api_key=\"\")"
   ]
  },
  {
   "cell_type": "code",
   "execution_count": 4,
   "id": "d923d351-f883-4885-9b75-12173268ef1b",
   "metadata": {
    "height": 147
   },
   "outputs": [],
   "source": [
    "PLAN_PROMPT = \"\"\"You are an expert writer tasked with writing a high level outline of an essay. \\\n",
    "Write such an outline for the user provided topic. Give an outline of the essay along with any relevant notes \\\n",
    "or instructions for the sections.\"\"\"\n",
    "\n",
    "WRITER_PROMPT = \"\"\"You are an essay assistant tasked with writing excellent 5-paragraph essays.\\\n",
    "Generate the best essay possible for the user's request and the initial outline. \\\n",
    "If the user provides critique, respond with a revised version of your previous attempts. \\\n",
    "Utilize all the information below as needed:\n",
    "\n",
    "------\n",
    "\n",
    "{content}\"\"\"\n",
    "\n",
    "REFLECTION_PROMPT = \"\"\"You are a teacher grading an essay submission. \\\n",
    "Generate critique and recommendations for the user's submission. \\\n",
    "Provide detailed recommendations, including requests for length, depth, style, etc.\"\"\"\n",
    "\n",
    "RESEARCH_PLAN_PROMPT = \"\"\"You are a researcher charged with providing information that can \\\n",
    "be used when writing the following essay. Generate a list of search queries that will gather \\\n",
    "any relevant information. Only generate 3 queries max.\"\"\"\n",
    "\n",
    "\n",
    "RESEARCH_CRITIQUE_PROMPT = \"\"\"You are a researcher charged with providing information that can \\\n",
    "be used when making any requested revisions (as outlined below). \\\n",
    "Generate a list of search queries that will gather any relevant information. Only generate 3 queries max.\"\"\"\n",
    "\n",
    "def plan_node(state: AgentState):\n",
    "    messages = [\n",
    "        SystemMessage(content=PLAN_PROMPT),\n",
    "        HumanMessage(content=state['task'])\n",
    "    ]\n",
    "    response = model.invoke(messages)\n",
    "    return {\"plan\": response.content}\n",
    "\n",
    "def research_plan_node(state: AgentState):\n",
    "    queries = model.with_structured_output(Queries).invoke([\n",
    "        SystemMessage(content=RESEARCH_PLAN_PROMPT),\n",
    "        HumanMessage(content=state['task'])\n",
    "    ])\n",
    "    content = state['content'] or []\n",
    "    for q in queries.queries:\n",
    "        response = tavily.search(query=q, max_results=2)\n",
    "        for r in response['results']:\n",
    "            content.append(r['content'])\n",
    "    return {\"content\": content}\n",
    "\n",
    "def generation_node(state: AgentState):\n",
    "    content = \"\\n\\n\".join(state['content'] or [])\n",
    "    user_message = HumanMessage(\n",
    "        content=f\"{state['task']}\\n\\nHere is my plan:\\n\\n{state['plan']}\")\n",
    "    messages = [\n",
    "        SystemMessage(\n",
    "            content=WRITER_PROMPT.format(content=content)\n",
    "        ),\n",
    "        user_message\n",
    "        ]\n",
    "    response = model.invoke(messages)\n",
    "    return {\n",
    "        \"draft\": response.content,\n",
    "        \"revision_number\": state.get(\"revision_number\", 1) + 1\n",
    "    }\n",
    "\n",
    "def reflection_node(state: AgentState):\n",
    "    messages = [\n",
    "        SystemMessage(content=REFLECTION_PROMPT),\n",
    "        HumanMessage(content=state['draft'])\n",
    "    ]\n",
    "    response = model.invoke(messages)\n",
    "    return {\"critique\": response.content}\n",
    "\n",
    "def research_critique_node(state: AgentState):\n",
    "    queries = model.with_structured_output(Queries).invoke([\n",
    "        SystemMessage(content=RESEARCH_CRITIQUE_PROMPT),\n",
    "        HumanMessage(content=state['critique'])\n",
    "    ])\n",
    "    content = state['content'] or []\n",
    "    for q in queries.queries:\n",
    "        response = tavily.search(query=q, max_results=2)\n",
    "        for r in response['results']:\n",
    "            content.append(r['content'])\n",
    "    return {\"content\": content}\n",
    "\n",
    "def should_continue(state):\n",
    "    if state[\"revision_number\"] > state[\"max_revisions\"]:\n",
    "        return END\n",
    "    return \"reflect\""
   ]
  },
  {
   "cell_type": "code",
   "execution_count": 5,
   "id": "e4166c3c-f025-486f-afb3-c62bf6ae77dc",
   "metadata": {
    "height": 147
   },
   "outputs": [],
   "source": [
    "builder = StateGraph(AgentState)\n",
    "\n",
    "builder.add_node(\"planner\", plan_node)\n",
    "builder.add_node(\"generate\", generation_node)\n",
    "builder.add_node(\"reflect\", reflection_node)\n",
    "builder.add_node(\"research_plan\", research_plan_node)\n",
    "builder.add_node(\"research_critique\", research_critique_node)\n",
    "\n",
    "builder.set_entry_point(\"planner\")\n",
    "\n",
    "builder.add_conditional_edges(\n",
    "    \"generate\",\n",
    "    should_continue,\n",
    "    {END: END, \"reflect\": \"reflect\"}\n",
    ")\n",
    "\n",
    "builder.add_edge(\"planner\", \"research_plan\")\n",
    "builder.add_edge(\"research_plan\", \"generate\")\n",
    "\n",
    "builder.add_edge(\"reflect\", \"research_critique\")\n",
    "builder.add_edge(\"research_critique\", \"generate\")\n",
    "\n",
    "graph = builder.compile(checkpointer=memory)"
   ]
  },
  {
   "cell_type": "code",
   "execution_count": 6,
   "id": "98f3be1d-cc4c-41fa-9863-3e386e88e305",
   "metadata": {
    "height": 147
   },
   "outputs": [
    {
     "name": "stderr",
     "output_type": "stream",
     "text": [
      "Key 'title' is not supported in schema, ignoring\n",
      "Key 'title' is not supported in schema, ignoring\n",
      "Key 'title' is not supported in schema, ignoring\n",
      "Key 'title' is not supported in schema, ignoring\n"
     ]
    },
    {
     "name": "stdout",
     "output_type": "stream",
     "text": [
      "{'planner': {'plan': \"## LangChain vs. LangSmith: A Comparative Exploration\\n\\n**I. Introduction**\\n\\n* Briefly introduce Large Language Models (LLMs) and their growing application in various fields.\\n* Introduce LangChain and LangSmith as two tools within the LLM ecosystem.\\n* State the essay's purpose: to provide a clear comparison of LangChain and LangSmith, highlighting their distinct functionalities, strengths, and weaknesses.\\n\\n**II. Understanding LangChain**\\n\\n* **Definition:** Explain LangChain as a framework for developing applications powered by LLMs.\\n* **Key Features:**\\n    * **Chain Creation:** Detail how LangChain allows chaining together different components like LLMs, prompts, and other tools.\\n    * **Data Integration:** Discuss its ability to connect with various data sources.\\n    * **Agent System:** Explain how LangChain enables the creation of agents that can interact with their environment.\\n* **Use Cases:** Provide examples of applications built using LangChain, emphasizing its versatility.\\n\\n**III. Exploring LangSmith**\\n\\n* **Definition:** Describe LangSmith as a platform primarily focused on debugging, testing, and evaluating LLM applications.\\n* **Key Features:**\\n    * **Tracing and Debugging:** Explain how LangSmith helps track and analyze LLM interactions to identify issues.\\n    * **Experiment Tracking:** Discuss its features for comparing different LLM configurations and prompts.\\n    * **Performance Monitoring:** Highlight its capabilities in monitoring the performance of deployed LLM applications.\\n* **Use Cases:** Provide examples of how LangSmith aids in improving the reliability and performance of LLM applications.\\n\\n**IV. Comparing and Contrasting**\\n\\n* **Direct Comparison:** Create a table or list directly comparing key features of LangChain and LangSmith.\\n    * **Focus:** Development framework vs. Debugging and monitoring platform\\n    * **Core Functionalities:** Chain building, data integration vs. Tracing, experiment tracking\\n    * **Target Users:** Developers building LLM apps vs. Developers and researchers refining LLM performance\\n* **Complementary Nature:** Explain how LangChain and LangSmith can be used together for a more comprehensive LLM development workflow.\\n\\n**V. Conclusion**\\n\\n* Summarize the key differences and use cases for LangChain and LangSmith.\\n* Reiterate that the choice between the two depends on the specific needs of the LLM project.\\n* Briefly mention the evolving landscape of LLM tools and the potential for future integrations between platforms like LangChain and LangSmith. \\n\\n**Notes:**\\n\\n* Use clear and concise language throughout the essay.\\n* Provide concrete examples to illustrate the functionalities of both tools.\\n* Maintain an objective tone, presenting both the strengths and limitations of each platform.\\n* Consider including visuals like diagrams or screenshots to enhance understanding. \\n\"}}\n",
      "{'research_plan': {'content': ['Oct 24, 2023 · LangChain is a library for developers not for non-technical users. It offers the ability to use the mods at the API level and use the models in\\xa0...Best LangChain features to support in a software development AI ...Is it worth dedicating time to learn Langchain with the constant influx ...More results from www.reddit.comMissing:  capabilities? | Show results with:capabilities?', 'Applications made with LangChain provide great utility for a variety of use cases, from straightforward question-answering and text generation tasks to more complex solutions that use an LLM as a “reasoning engine.”\\nTrain, validate, tune and deploy generative AI, foundation models and machine learning capabilities with ease and build AI applications in a fraction of the time with a fraction of the data.\\n When building a chain for an agent, inputs include:\\nDespite their heralded power and versatility, LLMs have important limitations: namely, a lack of up-to-date information, a lack of domain-specific expertise and a general difficulty with math.\\nLangChain tools\\xa0(link resides outside ibm.com) are a set of functions that empower LangChain agents to interact with real-world information in order to expand or improve the services it can provide. Launched by Harrison Chase in October 2022, LangChain enjoyed a meteoric rise to prominence: as of June 2023, it was the single fastest-growing open source project on Github.1 Coinciding with the momentous launch of OpenAI’s ChatGPT the following month, LangChain has played a significant role in making generative AI more accessible to enthusiasts in the wake of its widespread popularity.\\n Reimagine how you work with\\xa0AI: our diverse, global team of more than 20,000 AI\\xa0experts can help you quickly and confidently\\xa0design and scale AI and automation across your\\xa0business, working across our own IBM\\xa0watsonx\\xa0technology\\xa0and an open ecosystem of partners to deliver any\\xa0AI model, on any cloud, guided by ethics and trust.\\n While it’s the GPT model that interprets the user’s input and composes a natural language response, it’s the application that (among other things) provides an interface for the user to type and read and a UX design that governs the chatbot experience.', 'Applications of Langsmith. Langsmith, with its robust framework and integration capabilities, has a wide range of applications across various industries. By leveraging Langsmith, organizations can build sophisticated NLP solutions that streamline operations, enhance user experiences, and drive innovation. Here are some key applications of ...', \"LangSmith Cookbook: Real-world Lang Smith Examples\\nThe LangSmith Cookbook is not just a compilation of code snippets; it's a goldmine of hands-on examples designed to inspire and assist you in your projects. On This Page\\nLangSmith: Best Way to Test LLMs and AI Application\\nPublished on 12/17/2023\\nIf you're in the world of Language Learning Models (LLMs), you've probably heard of LangSmith. How to Download Feedback and Examples (opens in a new tab): Export predictions, evaluation results, and other information to add to your reports programmatically.\\n This article is your one-stop guide to understanding LangSmith, a platform that offers a plethora of features for debugging, testing, evaluating, and monitoring LLM applications.\\n How do I get access to LangSmith?\\nTo get access to LangSmith, you'll need to sign up for an account on their website.\", 'LangChain is ideal for early-stage prototyping and small-scale applications, while LangSmith is better suited for large-scale, production-ready applications that require advanced debugging, testing, and monitoring capabilities. By understanding the differences, pros, and cons of each tool, developers can make informed decisions about which one ...', \"BETA Sign Up\\nContact Sales\\nProducts and use-cases\\nLangChain\\nLangSmith\\nRetrieval\\nAgents\\nInspiration\\nCode\\nGitHub\\nLangChain Hub\\nPython Docs\\nJS/TS Docs\\nSocial\\nTwitter\\nDiscord\\nBlog\\nLinkedIn\\nYouTube\\nTerms of Service\\nSign up for our newsletter\\nProducts and use-cases\\nLangChain\\nLangSmith\\nRetrieval\\nAgents\\nInspiration\\nCode\\nGitHub\\nLangChain Hub\\nPython Docs\\nJS/TS Docs\\nSocial\\nTwitter\\nDiscord\\nBlog\\nLinkedIn\\nYouTube\\nTerms of Service\\nSign up for our newsletter\\nProducts and use-cases\\nLangChain\\nLangSmith\\nRetrieval\\nAgents\\nInspiration\\nCode\\nGitHub\\nLangChain Hub\\nPython Docs\\nJS/TS Docs\\nSocial\\nTwitter\\nDiscord\\nBlog\\nLinkedIn\\nYouTube\\nTerms of Service\\nSign up for our newsletter 🦜🔗 LangChain\\nLangSmith\\nLangServe\\nAgents\\nRetrieval\\nEvaluation\\nBlog\\nDocs\\n🦜🔗 LangChain\\nBuild and deploy LLM apps with confidence\\nAn all-in-one developer platform for every step of the application lifecycle.\\n Prompt playground\\nCross-team collaboration\\nCatalog of ranging models & tasks\\nProven prompting strategies\\nExplore LangChain Hub\\nTurn the magic of LLM applications into enterprise-ready products\\nNative collaboration\\nBring your team together in LangSmith to craft prompts, debug, and capture feedback.\\n Application-level usage stats\\nFeedback collection\\nFilter traces\\nCost measurement\\nPerformance comparison\\nGo To Docs\\nManage Prompts\\nPrompts power your team's chains and agents, and LangSmith allows you to refine, test, and version them in one place. Dataset curation\\nEvaluate chain performance\\nAI-assisted evaluation\\nEasy benchmarking\\nGo To Docs\\nMonitor\\nGiven the stochastic nature of LLMs, it can be hard to answer the simple question: “what’s happening with my application?”\"]}}\n",
      "{'generate': {'draft': '## LangChain vs. LangSmith: A Comparative Exploration\\n\\n**I. Introduction**\\n\\nLarge Language Models (LLMs) are rapidly transforming how we interact with technology, enabling sophisticated applications from chatbots to code generation.  Within this burgeoning LLM ecosystem, LangChain and LangSmith have emerged as essential tools, each serving distinct yet complementary purposes. This essay aims to provide a clear comparison of LangChain and LangSmith, highlighting their unique functionalities, strengths, and weaknesses.\\n\\n**II. Understanding LangChain**\\n\\nLangChain is a powerful framework specifically designed for developing applications powered by LLMs. Its core strength lies in its ability to chain together various components, creating complex and dynamic workflows.  \\n\\n* **Chain Creation:** LangChain allows developers to link LLMs with other tools and data sources. For example, a chatbot built with LangChain can access external APIs, databases, or even other LLMs to provide comprehensive and contextually relevant responses. \\n* **Data Integration:**  Seamless integration with diverse data sources is crucial for building robust LLM applications. LangChain excels in this area, providing tools to connect with APIs, PDFs, databases, and more, enabling LLMs to access and process real-world information.\\n* **Agent System:**  LangChain facilitates the creation of \"agents\" – autonomous entities that can interact with their environment. These agents can be programmed to perform tasks, gather information, and make decisions based on LLM outputs, opening up possibilities for building sophisticated AI assistants.\\n\\nLangChain\\'s versatility is evident in its diverse use cases, ranging from question-answering systems and chatbots to code assistants and automated content creation tools.\\n\\n**III. Exploring LangSmith**\\n\\nIn contrast to LangChain\\'s focus on application development, LangSmith serves as a dedicated platform for debugging, testing, and evaluating LLM applications. It provides developers and researchers with the tools necessary to ensure the reliability and performance of their LLM-powered solutions.\\n\\n* **Tracing and Debugging:**  Understanding the decision-making process of an LLM can be challenging. LangSmith addresses this by providing detailed tracing and debugging capabilities. Developers can analyze LLM interactions step-by-step, identify bottlenecks, and pinpoint the source of errors.\\n* **Experiment Tracking:**  Building effective LLM applications often involves experimenting with different models, prompts, and configurations. LangSmith simplifies this process by providing robust experiment tracking features. Developers can compare the performance of different setups, track metrics, and make data-driven decisions to optimize their applications.\\n* **Performance Monitoring:**  Once an LLM application is deployed, continuous monitoring is crucial to ensure optimal performance. LangSmith offers tools to monitor key metrics, detect anomalies, and identify areas for improvement, ensuring the long-term reliability of LLM-powered solutions.\\n\\nLangSmith\\'s value is evident in its ability to improve the accuracy, efficiency, and overall quality of LLM applications. It empowers developers to identify and address issues proactively, leading to more robust and reliable AI solutions.\\n\\n**IV. Comparing and Contrasting**\\n\\n| Feature | LangChain | LangSmith |\\n|---|---|---|\\n| **Focus** | Development framework | Debugging and monitoring platform |\\n| **Core Functionalities** | Chain building, data integration, agent creation | Tracing, experiment tracking, performance monitoring |\\n| **Target Users** | Developers building LLM applications | Developers and researchers refining LLM performance |\\n\\nWhile distinct in their primary functions, LangChain and LangSmith can be used together to create a comprehensive LLM development workflow. LangChain provides the building blocks for creating the application, while LangSmith offers the tools to refine, debug, and monitor its performance.\\n\\n**V. Conclusion**\\n\\nLangChain and LangSmith represent two essential facets of the LLM development landscape. LangChain empowers developers to build innovative applications, while LangSmith ensures their reliability and performance. The choice between the two depends entirely on the specific needs of the LLM project. As the field of LLMs continues to evolve, we can expect further integration and collaboration between platforms like LangChain and LangSmith, leading to even more powerful and accessible AI solutions. \\n', 'revision_number': 2}}\n"
     ]
    },
    {
     "name": "stderr",
     "output_type": "stream",
     "text": [
      "Key 'title' is not supported in schema, ignoring\n",
      "Key 'title' is not supported in schema, ignoring\n",
      "Key 'title' is not supported in schema, ignoring\n",
      "Key 'title' is not supported in schema, ignoring\n"
     ]
    },
    {
     "name": "stdout",
     "output_type": "stream",
     "text": [
      "{'reflect': {'critique': \"## Essay Critique: LangChain vs. LangSmith\\n\\n**Overall Impression:**\\n\\nThis is a solid start to a comparative essay on LangChain and LangSmith. You clearly understand the basic functionalities of each tool and their importance in the LLM landscape. However, the essay feels more like a descriptive overview than a critical analysis. \\n\\n**Strengths:**\\n\\n* **Clear Structure:** The essay follows a logical structure, making it easy to follow.\\n* **Concise Definitions:** You effectively explain the core purpose of both LangChain and LangSmith.\\n* **Helpful Comparison Table:** The table provides a quick and clear visual comparison of key features.\\n\\n**Areas for Improvement:**\\n\\n* **Depth of Analysis:** The essay lacks in-depth analysis and critical comparison.  You primarily list features without delving into their nuances, limitations, or how they truly differ between the platforms.\\n* **Real-World Examples:**  Illustrate your points with concrete examples. How is LangChain's data integration superior for specific use cases? What kind of debugging insights does LangSmith offer that are otherwise difficult to obtain?\\n* **Target Audience Considerations:**  While you mention target users, consider tailoring your language and depth for a specific audience. Are you writing for LLM beginners, experienced developers, or a general tech audience?\\n* **Critical Evaluation:**  The essay reads as overly positive. Explore potential drawbacks, limitations, or challenges associated with each tool.  Are there scenarios where one might be preferred over the other?\\n* **Conclusion Expansion:** The conclusion is abrupt. Briefly summarize your key findings and offer a more insightful closing thought about the future of these tools or their impact on the LLM field.\\n\\n**Specific Recommendations:**\\n\\n1. **Length & Depth:** Aim for a longer essay (e.g., 1000-1500 words) to allow for a more comprehensive analysis.\\n2. **Feature Deep Dives:**  Choose 2-3 key features from each tool and dedicate a paragraph to each, comparing and contrasting their implementation, strengths, and weaknesses.\\n3. **Real-World Examples:**  Include at least one detailed example of how each tool is used in a real-world LLM application. This will make your points more relatable and impactful.\\n4. **Critical Lens:**  Don't shy away from constructive criticism.  Highlighting limitations demonstrates a deeper understanding and provides a more balanced perspective.\\n5. **Target Audience Focus:**  Refine your language and depth based on your intended audience. For beginners, provide more background information. For experts, delve into technical nuances.\\n\\n**Revised Essay Structure Suggestion:**\\n\\n1. **Introduction:** (Existing)\\n2. **Understanding LangChain:** (Expand with deeper analysis and examples)\\n3. **Exploring LangSmith:** (Expand with deeper analysis and examples)\\n4. **Comparative Deep Dive:**\\n    * Feature 1 Comparison (e.g., Data Integration)\\n    * Feature 2 Comparison (e.g., Debugging & Tracing)\\n    * Feature 3 Comparison (e.g., Experiment Tracking)\\n5. **When to Use Which Tool:** (Provide clear guidelines based on project needs)\\n6. **Conclusion:** (Summarize key findings, offer insights, and a forward-looking statement)\\n\\nBy incorporating these recommendations, you can transform your essay from a good overview into a compelling and insightful comparative analysis. \\n\"}}\n",
      "queries=['\"LangChain real-world examples LLM applications\"', 'LangSmith debugging insights limitations', 'LangChain vs LangSmith disadvantages drawbacks']\n",
      "{'research_critique': {'content': ['Oct 24, 2023 · LangChain is a library for developers not for non-technical users. It offers the ability to use the mods at the API level and use the models in\\xa0...Best LangChain features to support in a software development AI ...Is it worth dedicating time to learn Langchain with the constant influx ...More results from www.reddit.comMissing:  capabilities? | Show results with:capabilities?', 'Applications made with LangChain provide great utility for a variety of use cases, from straightforward question-answering and text generation tasks to more complex solutions that use an LLM as a “reasoning engine.”\\nTrain, validate, tune and deploy generative AI, foundation models and machine learning capabilities with ease and build AI applications in a fraction of the time with a fraction of the data.\\n When building a chain for an agent, inputs include:\\nDespite their heralded power and versatility, LLMs have important limitations: namely, a lack of up-to-date information, a lack of domain-specific expertise and a general difficulty with math.\\nLangChain tools\\xa0(link resides outside ibm.com) are a set of functions that empower LangChain agents to interact with real-world information in order to expand or improve the services it can provide. Launched by Harrison Chase in October 2022, LangChain enjoyed a meteoric rise to prominence: as of June 2023, it was the single fastest-growing open source project on Github.1 Coinciding with the momentous launch of OpenAI’s ChatGPT the following month, LangChain has played a significant role in making generative AI more accessible to enthusiasts in the wake of its widespread popularity.\\n Reimagine how you work with\\xa0AI: our diverse, global team of more than 20,000 AI\\xa0experts can help you quickly and confidently\\xa0design and scale AI and automation across your\\xa0business, working across our own IBM\\xa0watsonx\\xa0technology\\xa0and an open ecosystem of partners to deliver any\\xa0AI model, on any cloud, guided by ethics and trust.\\n While it’s the GPT model that interprets the user’s input and composes a natural language response, it’s the application that (among other things) provides an interface for the user to type and read and a UX design that governs the chatbot experience.', 'Applications of Langsmith. Langsmith, with its robust framework and integration capabilities, has a wide range of applications across various industries. By leveraging Langsmith, organizations can build sophisticated NLP solutions that streamline operations, enhance user experiences, and drive innovation. Here are some key applications of ...', \"LangSmith Cookbook: Real-world Lang Smith Examples\\nThe LangSmith Cookbook is not just a compilation of code snippets; it's a goldmine of hands-on examples designed to inspire and assist you in your projects. On This Page\\nLangSmith: Best Way to Test LLMs and AI Application\\nPublished on 12/17/2023\\nIf you're in the world of Language Learning Models (LLMs), you've probably heard of LangSmith. How to Download Feedback and Examples (opens in a new tab): Export predictions, evaluation results, and other information to add to your reports programmatically.\\n This article is your one-stop guide to understanding LangSmith, a platform that offers a plethora of features for debugging, testing, evaluating, and monitoring LLM applications.\\n How do I get access to LangSmith?\\nTo get access to LangSmith, you'll need to sign up for an account on their website.\", 'LangChain is ideal for early-stage prototyping and small-scale applications, while LangSmith is better suited for large-scale, production-ready applications that require advanced debugging, testing, and monitoring capabilities. By understanding the differences, pros, and cons of each tool, developers can make informed decisions about which one ...', \"BETA Sign Up\\nContact Sales\\nProducts and use-cases\\nLangChain\\nLangSmith\\nRetrieval\\nAgents\\nInspiration\\nCode\\nGitHub\\nLangChain Hub\\nPython Docs\\nJS/TS Docs\\nSocial\\nTwitter\\nDiscord\\nBlog\\nLinkedIn\\nYouTube\\nTerms of Service\\nSign up for our newsletter\\nProducts and use-cases\\nLangChain\\nLangSmith\\nRetrieval\\nAgents\\nInspiration\\nCode\\nGitHub\\nLangChain Hub\\nPython Docs\\nJS/TS Docs\\nSocial\\nTwitter\\nDiscord\\nBlog\\nLinkedIn\\nYouTube\\nTerms of Service\\nSign up for our newsletter\\nProducts and use-cases\\nLangChain\\nLangSmith\\nRetrieval\\nAgents\\nInspiration\\nCode\\nGitHub\\nLangChain Hub\\nPython Docs\\nJS/TS Docs\\nSocial\\nTwitter\\nDiscord\\nBlog\\nLinkedIn\\nYouTube\\nTerms of Service\\nSign up for our newsletter 🦜🔗 LangChain\\nLangSmith\\nLangServe\\nAgents\\nRetrieval\\nEvaluation\\nBlog\\nDocs\\n🦜🔗 LangChain\\nBuild and deploy LLM apps with confidence\\nAn all-in-one developer platform for every step of the application lifecycle.\\n Prompt playground\\nCross-team collaboration\\nCatalog of ranging models & tasks\\nProven prompting strategies\\nExplore LangChain Hub\\nTurn the magic of LLM applications into enterprise-ready products\\nNative collaboration\\nBring your team together in LangSmith to craft prompts, debug, and capture feedback.\\n Application-level usage stats\\nFeedback collection\\nFilter traces\\nCost measurement\\nPerformance comparison\\nGo To Docs\\nManage Prompts\\nPrompts power your team's chains and agents, and LangSmith allows you to refine, test, and version them in one place. Dataset curation\\nEvaluate chain performance\\nAI-assisted evaluation\\nEasy benchmarking\\nGo To Docs\\nMonitor\\nGiven the stochastic nature of LLMs, it can be hard to answer the simple question: “what’s happening with my application?”\", 'Langchain realworld examples in JS\\namalshehu/langchain-js-realworld\\nFolders and files\\nLatest commit\\nHistory\\ndata\\ndata\\nindexes\\nindexes\\nmodels\\nmodels\\nprompts\\nprompts\\nschema\\nschema\\nunstructured.io\\nunstructured.io\\nutils\\nutils\\n.gitignore\\n.gitignore\\nReadme.md\\nReadme.md\\nlangchain.md\\nlangchain.md\\npackage.json\\npackage.json\\npnpm-lock.yaml\\npnpm-lock.yaml\\nsample.env\\nsample.env\\nsetup.js\\nsetup.js\\nRepository files navigation\\nLangchain in Realworld\\nLangchain is a robust framework designed for incorporating Large Language Models (LLMs) into real-world applications. About\\nLangchain realworld examples in JS\\nTopics\\nResources\\nStars\\nWatchers\\nForks\\nReleases\\nPackages\\n0\\nLanguages\\nFooter\\nFooter navigation After calling the chain with a given input (\"Tell me about the history of the Roman Empire.\"), we\\'re logging both the response from the AI model and the content of our ConversationSummaryMemory.\\nData Connections\\nIn an AI-powered legal tech application, users might need to search through extensive databases of legal documents. Processing the Chunks: For each chunk, we format the input, call the model with the input, parse the response using the statementParser, and add the parsed response to our results.\\n In this example:\\nSetting up the Parser: We first set up the StructuredOutputParser to parse the responses from the model based on a defined schema.\\n', '--\\n--\\nWritten by Bijit Ghosh\\nCTO | Senior Engineering Leader focused on Cloud Native | AI/ML | DevSecOps\\nHelp\\nStatus\\nAbout\\nCareers\\nBlog\\nPrivacy\\nTerms\\nText to speech\\nTeams Sign up\\nSign in\\nSign up\\nSign in\\nLLM Powered Applications Building with LangChain\\nBijit Ghosh\\nFollow\\n--\\nListen\\nShare\\nLLMs such as GPT-3, Codex, and PaLM have demonstrated immense capabilities in generating human-like text, translating languages, summarizing content, answering questions, and much more. Running LangChain at Scale\\nOnce you have an app working locally, LangChain provides building blocks for running in production at scale:\\nAsynchronous\\nUse ai.generate_async() to enable asynchronous parallel queries:\\nThis allows querying models in parallel to improve throughput.\\n LangChain Architecture\\nHigh-level overview of LangChain’s architecture and workflow and the core steps when using LangChain consist of:\\nThis enables a natural blend of application logic in Python with large language models for text generation, search, data manipulation, and more.\\n Other search and QA applications include:\\nLLMs provide reasoning capabilities perfect for many search and question answering domains.\\nData Processing and Analytics\\nLLMs can also help structure messy real-world data and gain insights from it.\\n', \"Here are LangSmith's main features: Fast Debugging: ... See how your app is used and get valuable insights. To showcase LangSmith's integration with the web app and the value it brings, let's ...\", \"Debug with Precision: Troubleshoot complex issues efficiently with LangSmith's debugging tools. Fine-tune Performance: Optimize your application's functionality for maximum impact. Whether you're a seasoned developer pushing the boundaries of LLMs or just starting your journey, LangSmith empowers you to unlock the full potential of these ...\", 'LangChain is ideal for early-stage prototyping and small-scale applications, while LangSmith is better suited for large-scale, production-ready applications that require advanced debugging, testing, and monitoring capabilities. By understanding the differences, pros, and cons of each tool, developers can make informed decisions about which one ...', 'Langchain vs Langsmith: Unpacking the AI Language Model Showdown\\nOverview of Langchain and Langsmith\\nLangchain is a versatile open-source framework that enables you to build applications utilizing large language models (LLM) like GPT-3. Check out our free WhatsApp channel to stay educated on LLM developments:\\nJoin the Finxter Academy and unlock access to premium courses 👑 to certify your skills in exponential technologies and programming.\\n Frequently Asked Questions\\nWhether you’re trying to figure out which tool fits your needs or you’re just getting started with language model automation, these FAQs will help shed light on the common curiosities about Langchain and LangSmith.\\n The best way to find out is to reach out to them through the LangSmith Walkthrough page or to inquire about access directly through their support channels.\\n Here’s how you might start a simple Langchain project in Python:\\nTo integrate LangSmith, you could write something like this:\\nYou’re not limited to Python, though.']}}\n",
      "{'generate': {'draft': '## LangChain vs. LangSmith: A Comparative Exploration\\n\\n**I. Introduction**\\n\\nLarge Language Models (LLMs) are revolutionizing how we interact with technology, demonstrating remarkable capabilities in understanding and generating human-like text. As LLM applications proliferate across various fields, tools like LangChain and LangSmith have emerged to streamline their development and deployment. This essay provides a comparative analysis of LangChain and LangSmith, highlighting their distinct functionalities and use cases.\\n\\n**II. Understanding LangChain**\\n\\nLangChain is an open-source framework specifically designed for building applications powered by LLMs. Its core strength lies in its ability to create \"chains,\" which are sequences of components like LLMs, prompts, and other tools, allowing developers to orchestrate complex workflows. For instance, a chain could involve using an LLM to summarize a document, extract key entities, and then generate a concise report. LangChain also facilitates seamless integration with various data sources, enabling LLMs to access and process information from databases, APIs, and more. Furthermore, its agent system empowers developers to create autonomous agents that can interact with their environment, making decisions and taking actions based on LLM outputs.\\n\\n**III. Exploring LangSmith**\\n\\nIn contrast to LangChain\\'s focus on application development, LangSmith serves as a comprehensive platform for debugging, testing, and evaluating LLM applications. Its primary function is to provide developers with deep insights into the inner workings of their LLM pipelines. LangSmith\\'s tracing and debugging features allow developers to track LLM interactions step-by-step, analyze intermediate outputs, and identify bottlenecks or errors. Its experiment tracking capabilities enable the comparison of different LLM configurations, prompts, and hyperparameters, facilitating systematic optimization. Moreover, LangSmith offers performance monitoring tools to track metrics like latency and accuracy in deployed LLM applications, ensuring optimal performance over time.\\n\\n**IV. Comparing and Contrasting**\\n\\n| Feature | LangChain | LangSmith |\\n|---|---|---|\\n| **Focus** | LLM application development | LLM debugging, testing, and evaluation |\\n| **Core Functionalities** | Chain building, data integration, agent system | Tracing, debugging, experiment tracking, performance monitoring |\\n| **Target Users** | Developers building LLM-powered applications | Developers and researchers refining LLM performance |\\n\\nWhile distinct in their primary functions, LangChain and LangSmith can be viewed as complementary tools within the LLM development lifecycle. LangChain provides the building blocks for creating LLM applications, while LangSmith offers the tools to refine, optimize, and monitor their performance.\\n\\n**V. Conclusion**\\n\\nLangChain and LangSmith represent two crucial aspects of the burgeoning LLM ecosystem. LangChain empowers developers to harness the power of LLMs for diverse applications, while LangSmith provides the tools to ensure their reliability, efficiency, and performance. The choice between the two depends on the specific needs of the LLM project. As the field continues to evolve, we can anticipate further integration and collaboration between platforms like LangChain and LangSmith, leading to even more powerful and accessible LLM development tools. \\n', 'revision_number': 3}}\n"
     ]
    }
   ],
   "source": [
    "thread = {\"configurable\": {\"thread_id\": \"1\"}}\n",
    "for s in graph.stream({\n",
    "    'task': \"What is the difference between LangChain and LangSmith?\",\n",
    "    \"max_revisions\": 2,\n",
    "    \"revision_number\": 1,\n",
    "    \"content\": [],\n",
    "}, thread):\n",
    "    print(s)"
   ]
  },
  {
   "cell_type": "code",
   "execution_count": 9,
   "id": "4871f644-b131-4065-b7ce-b82c20a41f11",
   "metadata": {
    "height": 64
   },
   "outputs": [
    {
     "data": {
      "image/jpeg": "[encoded data removed]",
      "text/plain": [
       "<IPython.core.display.Image object>"
      ]
     },
     "execution_count": 9,
     "metadata": {},
     "output_type": "execute_result"
    }
   ],
   "source": [
    "from IPython.display import Image\n",
    "\n",
    "Image(graph.get_graph().draw_mermaid_png())"
   ]
  },
  {
   "cell_type": "markdown",
   "id": "4d1664b5-75e0-46b7-9c2b-4ac9171f4597",
   "metadata": {},
   "source": [
    "## Essay Writer Interface"
   ]
  },
  {
   "cell_type": "code",
   "execution_count": null,
   "id": "6e0ae270-3ec3-484a-b729-df7d2b7b0f76",
   "metadata": {
    "height": 81
   },
   "outputs": [],
   "source": [
    "import warnings\n",
    "warnings.filterwarnings(\"ignore\")\n",
    "\n",
    "from helper import ewriter, writer_gui"
   ]
  }
 ],
 "metadata": {
  "kernelspec": {
   "display_name": "Python 3 (ipykernel)",
   "language": "python",
   "name": "python3"
  },
  "language_info": {
   "codemirror_mode": {
    "name": "ipython",
    "version": 3
   },
   "file_extension": ".py",
   "mimetype": "text/x-python",
   "name": "python",
   "nbconvert_exporter": "python",
   "pygments_lexer": "ipython3",
   "version": "3.11.8"
  }
 },
 "nbformat": 4,
 "nbformat_minor": 5
}
